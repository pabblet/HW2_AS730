{
 "cells": [
  {
   "cell_type": "code",
   "execution_count": 14,
   "metadata": {},
   "outputs": [],
   "source": [
    "import numpy as np\n",
    "import pandas as pd"
   ]
  },
  {
   "cell_type": "code",
   "execution_count": null,
   "metadata": {},
   "outputs": [
    {
     "data": {
      "text/html": [
       "<div>\n",
       "<style scoped>\n",
       "    .dataframe tbody tr th:only-of-type {\n",
       "        vertical-align: middle;\n",
       "    }\n",
       "\n",
       "    .dataframe tbody tr th {\n",
       "        vertical-align: top;\n",
       "    }\n",
       "\n",
       "    .dataframe thead th {\n",
       "        text-align: right;\n",
       "    }\n",
       "</style>\n",
       "<table border=\"1\" class=\"dataframe\">\n",
       "  <thead>\n",
       "    <tr style=\"text-align: right;\">\n",
       "      <th></th>\n",
       "      <th>ID</th>\n",
       "      <th>z</th>\n",
       "      <th>Halpha</th>\n",
       "      <th>Hbeta</th>\n",
       "      <th>BalmerD</th>\n",
       "      <th>SFR</th>\n",
       "      <th>LD</th>\n",
       "    </tr>\n",
       "  </thead>\n",
       "  <tbody>\n",
       "    <tr>\n",
       "      <th>0</th>\n",
       "      <td>299489676975171584</td>\n",
       "      <td>0.021275</td>\n",
       "      <td>462.11760</td>\n",
       "      <td>98.78678</td>\n",
       "      <td>4.677929</td>\n",
       "      <td>-0.520650</td>\n",
       "      <td>2.854778e+26</td>\n",
       "    </tr>\n",
       "    <tr>\n",
       "      <th>1</th>\n",
       "      <td>299489677444933632</td>\n",
       "      <td>0.021222</td>\n",
       "      <td>472.59040</td>\n",
       "      <td>119.49560</td>\n",
       "      <td>3.954875</td>\n",
       "      <td>-0.527342</td>\n",
       "      <td>2.847527e+26</td>\n",
       "    </tr>\n",
       "    <tr>\n",
       "      <th>2</th>\n",
       "      <td>299490502078654464</td>\n",
       "      <td>0.064656</td>\n",
       "      <td>99.40005</td>\n",
       "      <td>25.64047</td>\n",
       "      <td>3.876687</td>\n",
       "      <td>-1.155230</td>\n",
       "      <td>8.960103e+26</td>\n",
       "    </tr>\n",
       "    <tr>\n",
       "      <th>3</th>\n",
       "      <td>299491051364706304</td>\n",
       "      <td>0.055988</td>\n",
       "      <td>181.52620</td>\n",
       "      <td>47.36650</td>\n",
       "      <td>3.832376</td>\n",
       "      <td>-0.318228</td>\n",
       "      <td>7.710194e+26</td>\n",
       "    </tr>\n",
       "    <tr>\n",
       "      <th>4</th>\n",
       "      <td>299491051834468352</td>\n",
       "      <td>0.052654</td>\n",
       "      <td>127.30580</td>\n",
       "      <td>38.33226</td>\n",
       "      <td>3.321113</td>\n",
       "      <td>-0.411009</td>\n",
       "      <td>7.233454e+26</td>\n",
       "    </tr>\n",
       "  </tbody>\n",
       "</table>\n",
       "</div>"
      ],
      "text/plain": [
       "                   ID         z     Halpha      Hbeta   BalmerD       SFR  \\\n",
       "0  299489676975171584  0.021275  462.11760   98.78678  4.677929 -0.520650   \n",
       "1  299489677444933632  0.021222  472.59040  119.49560  3.954875 -0.527342   \n",
       "2  299490502078654464  0.064656   99.40005   25.64047  3.876687 -1.155230   \n",
       "3  299491051364706304  0.055988  181.52620   47.36650  3.832376 -0.318228   \n",
       "4  299491051834468352  0.052654  127.30580   38.33226  3.321113 -0.411009   \n",
       "\n",
       "             LD  \n",
       "0  2.854778e+26  \n",
       "1  2.847527e+26  \n",
       "2  8.960103e+26  \n",
       "3  7.710194e+26  \n",
       "4  7.233454e+26  "
      ]
     },
     "execution_count": 16,
     "metadata": {},
     "output_type": "execute_result"
    }
   ],
   "source": [
    "data= pd.read_csv('data.csv', skiprows=1, sep=',')\n",
    "data.head()\n",
    "#SFR in log\n",
    "#Flux in 10^-17 ergs/s/cm^2\n",
    "#Luminosity distance in cm"
   ]
  },
  {
   "cell_type": "code",
   "execution_count": 24,
   "metadata": {},
   "outputs": [],
   "source": [
    "k_alpha= 3.33\n",
    "k_beta= 4.60\n",
    "\n",
    "reddening= (2.5/(k_beta-k_alpha))*np.log10(data['BalmerD']/2.86)\n",
    "\n",
    "H_alpha= (1e-17*data['Halpha']*(4*np.pi*data['LD']**2))*10**(0.4*k_alpha*reddening)\n",
    "\n",
    "SFR= 8e-42*H_alpha"
   ]
  },
  {
   "cell_type": "code",
   "execution_count": 32,
   "metadata": {},
   "outputs": [
    {
     "name": "stdout",
     "output_type": "stream",
     "text": [
      "        SDSS  Estimated\n",
      "0  -0.520650  -0.861504\n",
      "1  -0.527342  -1.045183\n",
      "2  -1.155230  -0.749329\n",
      "3  -0.318228  -0.631363\n",
      "4  -0.411009  -1.003943\n",
      "..       ...        ...\n",
      "95  0.353776  -0.102414\n",
      "96 -1.104310  -0.737610\n",
      "97 -1.021468  -1.007561\n",
      "98  0.426864  -0.740588\n",
      "99 -1.104879  -0.272211\n",
      "\n",
      "[100 rows x 2 columns]\n"
     ]
    }
   ],
   "source": [
    "df= pd.DataFrame({\n",
    "    'SDSS': data['SFR'],\n",
    "    'Estimated': np.log10(SFR)\n",
    "})\n",
    "\n",
    "print(df)"
   ]
  }
 ],
 "metadata": {
  "kernelspec": {
   "display_name": "Python 3",
   "language": "python",
   "name": "python3"
  },
  "language_info": {
   "codemirror_mode": {
    "name": "ipython",
    "version": 3
   },
   "file_extension": ".py",
   "mimetype": "text/x-python",
   "name": "python",
   "nbconvert_exporter": "python",
   "pygments_lexer": "ipython3",
   "version": "3.9.6"
  }
 },
 "nbformat": 4,
 "nbformat_minor": 2
}
